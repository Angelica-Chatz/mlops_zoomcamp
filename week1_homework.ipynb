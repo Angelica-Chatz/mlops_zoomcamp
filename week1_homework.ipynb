{
 "cells": [
  {
   "cell_type": "code",
   "execution_count": null,
   "id": "41062d8a",
   "metadata": {
    "ExecuteTime": {
     "end_time": "2022-05-23T12:53:37.804205Z",
     "start_time": "2022-05-23T12:53:37.253015Z"
    }
   },
   "outputs": [],
   "source": [
    "import pandas as pd #data manipulation\n",
    "import numpy as np"
   ]
  },
  {
   "cell_type": "code",
   "execution_count": null,
   "id": "4add538c",
   "metadata": {
    "ExecuteTime": {
     "end_time": "2022-05-23T12:53:39.093026Z",
     "start_time": "2022-05-23T12:53:37.806013Z"
    }
   },
   "outputs": [],
   "source": [
    "import seaborn as sns #visualisation\n",
    "import matplotlib.pyplot as plt #visualisation\n",
    "#import plotly as "
   ]
  },
  {
   "cell_type": "code",
   "execution_count": null,
   "id": "8b135c2b",
   "metadata": {
    "ExecuteTime": {
     "end_time": "2022-05-23T12:53:39.250029Z",
     "start_time": "2022-05-23T12:53:39.095015Z"
    }
   },
   "outputs": [],
   "source": [
    "from sklearn.feature_extraction import DictVectorizer #modelling\n",
    "from sklearn.linear_model import LinearRegression #modelling\n",
    "from sklearn.metrics import mean_squared_error #modelling"
   ]
  },
  {
   "cell_type": "code",
   "execution_count": null,
   "id": "7aaf9a62",
   "metadata": {
    "ExecuteTime": {
     "end_time": "2022-05-23T12:53:39.314022Z",
     "start_time": "2022-05-23T12:53:39.251013Z"
    }
   },
   "outputs": [],
   "source": [
    "# Jupyter display env setup\n",
    "pd.set_option('display.max_rows', 200)\n",
    "\n",
    "pd.options.display.max_columns\n",
    "\n",
    "pd.options.display.max_colwidth\n",
    "\n",
    "pd.options.display.precision = 3\n",
    "\n",
    "pd.options.plotting.backend = \"plotly\"\n",
    "\n",
    "np.random.seed(42)"
   ]
  },
  {
   "cell_type": "code",
   "execution_count": null,
   "id": "61790299",
   "metadata": {
    "ExecuteTime": {
     "end_time": "2022-05-23T12:53:39.566718Z",
     "start_time": "2022-05-23T12:53:39.316017Z"
    }
   },
   "outputs": [],
   "source": [
    "# load the data just for January 2021\n",
    "df = pd.read_parquet('./data/fhv_tripdata_2021-01.parquet')\n",
    "\n",
    "# and quickly inspect the size of the table\n",
    "print(df.shape)\n",
    "\n",
    "# Question 1: Number of records in Jan 2021 FHV data\n",
    "print(df.shape[0])\n",
    "\n",
    "df.head()"
   ]
  },
  {
   "cell_type": "code",
   "execution_count": null,
   "id": "e523dcc0",
   "metadata": {
    "ExecuteTime": {
     "end_time": "2022-05-23T12:53:39.614757Z",
     "start_time": "2022-05-23T12:53:39.568738Z"
    }
   },
   "outputs": [],
   "source": [
    "# create the response variable\n",
    "df['duration'] = df.dropOff_datetime - df.pickup_datetime\n",
    "\n",
    "df.duration = df.duration.dt.total_seconds()/60"
   ]
  },
  {
   "cell_type": "code",
   "execution_count": null,
   "id": "1b0a18f3",
   "metadata": {
    "ExecuteTime": {
     "end_time": "2022-05-23T12:53:39.629900Z",
     "start_time": "2022-05-23T12:53:39.616718Z"
    }
   },
   "outputs": [],
   "source": [
    "# Question 2: Average duration in Jan 2021 FHV\n",
    "\n",
    "df.duration.mean()"
   ]
  },
  {
   "cell_type": "code",
   "execution_count": null,
   "id": "45f69282",
   "metadata": {
    "ExecuteTime": {
     "end_time": "2022-05-23T12:53:39.787783Z",
     "start_time": "2022-05-23T12:53:39.631722Z"
    }
   },
   "outputs": [],
   "source": [
    "# exclude outliers\n",
    "df = df.query(\"duration >= 1 & duration <= 60\")\n",
    "\n",
    "df.duration.describe()\n"
   ]
  },
  {
   "cell_type": "code",
   "execution_count": null,
   "id": "146e5e60",
   "metadata": {
    "ExecuteTime": {
     "end_time": "2022-05-23T12:53:39.819723Z",
     "start_time": "2022-05-23T12:53:39.793740Z"
    }
   },
   "outputs": [],
   "source": [
    "df.dtypes"
   ]
  },
  {
   "cell_type": "code",
   "execution_count": null,
   "id": "542e5234",
   "metadata": {
    "ExecuteTime": {
     "end_time": "2022-05-23T12:53:39.866755Z",
     "start_time": "2022-05-23T12:53:39.821759Z"
    }
   },
   "outputs": [],
   "source": [
    "# subset just the locationID columns and replace NAs with -1\n",
    "PU_DO = df[['PUlocationID', 'DOlocationID']].fillna(-1)\n",
    "\n",
    "PU_DO.head()"
   ]
  },
  {
   "cell_type": "code",
   "execution_count": null,
   "id": "b2b891af",
   "metadata": {
    "ExecuteTime": {
     "end_time": "2022-05-23T12:53:39.914724Z",
     "start_time": "2022-05-23T12:53:39.868720Z"
    }
   },
   "outputs": [],
   "source": [
    "#Question 3: Fraction of missing values\n",
    "PU_DO.query('PUlocationID == -1').shape[0]/df.shape[0] * 100"
   ]
  },
  {
   "cell_type": "code",
   "execution_count": null,
   "id": "b63fa1a7",
   "metadata": {
    "ExecuteTime": {
     "end_time": "2022-05-23T12:53:40.802756Z",
     "start_time": "2022-05-23T12:53:39.918721Z"
    }
   },
   "outputs": [],
   "source": [
    "# set appropriate data type\n",
    "PU_DO = PU_DO.astype(str)\n",
    "\n",
    "PU_DO.dtypes"
   ]
  },
  {
   "cell_type": "code",
   "execution_count": null,
   "id": "d9c8921b",
   "metadata": {
    "ExecuteTime": {
     "end_time": "2022-05-23T12:53:43.469725Z",
     "start_time": "2022-05-23T12:53:40.809726Z"
    }
   },
   "outputs": [],
   "source": [
    "# turn into a list of dicts\n",
    "PU_DO_dicts = PU_DO.to_dict(orient='records')\n",
    "PU_DO_dicts"
   ]
  },
  {
   "cell_type": "code",
   "execution_count": null,
   "id": "116ff0cc",
   "metadata": {
    "ExecuteTime": {
     "end_time": "2022-05-23T12:53:46.205776Z",
     "start_time": "2022-05-23T12:53:43.471720Z"
    }
   },
   "outputs": [],
   "source": [
    "#Question 4: Dimensionality after OHE\n",
    "dv = DictVectorizer()\n",
    "PU_DO_ohe = dv.fit_transform(PU_DO_dicts)\n",
    "\n",
    "PU_DO_ohe.shape"
   ]
  },
  {
   "cell_type": "code",
   "execution_count": null,
   "id": "1b23bbcc",
   "metadata": {
    "ExecuteTime": {
     "end_time": "2022-05-23T12:53:57.698717Z",
     "start_time": "2022-05-23T12:53:46.209726Z"
    }
   },
   "outputs": [],
   "source": [
    "# Build a vanilla LR\n",
    "Y_train = df.duration.values\n",
    "\n",
    "X_train = PU_DO_ohe\n",
    "\n",
    "lr = LinearRegression()\n",
    "lr.fit(X_train, Y_train)\n",
    "\n",
    "Y_pred = lr.predict(X_train)"
   ]
  },
  {
   "cell_type": "code",
   "execution_count": null,
   "id": "6bd8d3bc",
   "metadata": {
    "ExecuteTime": {
     "end_time": "2022-05-23T12:53:57.730718Z",
     "start_time": "2022-05-23T12:53:57.700721Z"
    }
   },
   "outputs": [],
   "source": [
    "actual_preds = pd.DataFrame({'Actual': Y_train, 'Predicted': Y_pred})\n",
    "\n",
    "actual_preds.head()"
   ]
  },
  {
   "cell_type": "code",
   "execution_count": null,
   "id": "b134c97b",
   "metadata": {
    "ExecuteTime": {
     "end_time": "2022-05-23T12:54:11.507883Z",
     "start_time": "2022-05-23T12:53:57.732720Z"
    }
   },
   "outputs": [],
   "source": [
    "#Question 5: RMSE on train\n",
    "print(mean_squared_error(actual_preds.Actual, actual_preds.Predicted, squared=False))\n",
    "\n",
    "\n",
    "# check the distributions\n",
    "fig = actual_preds.plot.hist()\n",
    "fig.show()"
   ]
  },
  {
   "cell_type": "code",
   "execution_count": null,
   "id": "f9e6479e",
   "metadata": {
    "ExecuteTime": {
     "end_time": "2022-05-23T12:54:11.744833Z",
     "start_time": "2022-05-23T12:54:11.509834Z"
    }
   },
   "outputs": [],
   "source": [
    "# load Feb 2021 data and create response var: duration\n",
    "df_val= pd.read_parquet('./data/fhv_tripdata_2021-02.parquet')\n",
    "\n",
    "df_val['duration'] = df_val.dropOff_datetime - df_val.pickup_datetime\n",
    "\n",
    "df_val.duration = df_val.duration.dt.total_seconds()/60\n"
   ]
  },
  {
   "cell_type": "code",
   "execution_count": null,
   "id": "8029eba0",
   "metadata": {
    "ExecuteTime": {
     "end_time": "2022-05-23T12:54:17.484881Z",
     "start_time": "2022-05-23T12:54:11.745831Z"
    }
   },
   "outputs": [],
   "source": [
    "# according to instructions: follow similar preprocessing as in the train subset\n",
    "df_val = df_val.query(\"duration >= 1 & duration <= 60\")\n",
    "\n",
    "PU_DO_val = df_val[['PUlocationID', 'DOlocationID']].fillna(-1)\n",
    "\n",
    "PU_DO_val = PU_DO_val.astype(str)\n",
    "\n",
    "print(PU_DO_val.dtypes)\n",
    "\n",
    "PU_DO_val = PU_DO_val.to_dict(orient='records')\n",
    "\n",
    "PU_DO_val = dv.transform(PU_DO_val)\n",
    "\n",
    "print(PU_DO_val.shape[1])"
   ]
  },
  {
   "cell_type": "code",
   "execution_count": null,
   "id": "951d51ef",
   "metadata": {
    "ExecuteTime": {
     "end_time": "2022-05-23T12:54:17.500867Z",
     "start_time": "2022-05-23T12:54:17.486839Z"
    },
    "scrolled": true
   },
   "outputs": [],
   "source": [
    "# Produce predictions on the val df\n",
    "Y_val = df_val.duration.values\n",
    "\n",
    "Y_pred_val = lr.predict(PU_DO_val)"
   ]
  },
  {
   "cell_type": "code",
   "execution_count": null,
   "id": "47b0eb9b",
   "metadata": {
    "ExecuteTime": {
     "end_time": "2022-05-23T12:54:28.418146Z",
     "start_time": "2022-05-23T12:54:17.502835Z"
    }
   },
   "outputs": [],
   "source": [
    "actual_preds_val = pd.DataFrame({'Actual_val': Y_val, 'Predicted_val': Y_pred_val})\n",
    "\n",
    "\n",
    "#Question 6: RMSE on validation\n",
    "print(mean_squared_error(actual_preds_val.Actual_val, actual_preds_val.Predicted_val, \n",
    "                         squared=False))\n",
    "\n",
    "\n",
    "# check the distributions\n",
    "fig = actual_preds_val.plot.hist()\n",
    "fig.show()"
   ]
  }
 ],
 "metadata": {
  "kernelspec": {
   "display_name": "Python 3 (ipykernel)",
   "language": "python",
   "name": "python3"
  },
  "language_info": {
   "codemirror_mode": {
    "name": "ipython",
    "version": 3
   },
   "file_extension": ".py",
   "mimetype": "text/x-python",
   "name": "python",
   "nbconvert_exporter": "python",
   "pygments_lexer": "ipython3",
   "version": "3.9.12"
  },
  "toc": {
   "base_numbering": 1,
   "nav_menu": {},
   "number_sections": true,
   "sideBar": true,
   "skip_h1_title": false,
   "title_cell": "Table of Contents",
   "title_sidebar": "Contents",
   "toc_cell": false,
   "toc_position": {},
   "toc_section_display": true,
   "toc_window_display": false
  },
  "varInspector": {
   "cols": {
    "lenName": 16,
    "lenType": 16,
    "lenVar": 40
   },
   "kernels_config": {
    "python": {
     "delete_cmd_postfix": "",
     "delete_cmd_prefix": "del ",
     "library": "var_list.py",
     "varRefreshCmd": "print(var_dic_list())"
    },
    "r": {
     "delete_cmd_postfix": ") ",
     "delete_cmd_prefix": "rm(",
     "library": "var_list.r",
     "varRefreshCmd": "cat(var_dic_list()) "
    }
   },
   "types_to_exclude": [
    "module",
    "function",
    "builtin_function_or_method",
    "instance",
    "_Feature"
   ],
   "window_display": false
  }
 },
 "nbformat": 4,
 "nbformat_minor": 5
}
