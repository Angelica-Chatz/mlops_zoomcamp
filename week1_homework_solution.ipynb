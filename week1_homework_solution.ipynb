{
 "cells": [
  {
   "cell_type": "code",
   "execution_count": null,
   "id": "41062d8a",
   "metadata": {
    "ExecuteTime": {
     "end_time": "2022-05-23T13:12:29.809279Z",
     "start_time": "2022-05-23T13:12:29.308282Z"
    }
   },
   "outputs": [],
   "source": [
    "import pandas as pd #data manipulation\n",
    "import numpy as np"
   ]
  },
  {
   "cell_type": "code",
   "execution_count": null,
   "id": "8b135c2b",
   "metadata": {
    "ExecuteTime": {
     "end_time": "2022-05-23T13:12:31.421281Z",
     "start_time": "2022-05-23T13:12:31.217279Z"
    }
   },
   "outputs": [],
   "source": [
    "from sklearn.feature_extraction import DictVectorizer #modelling\n",
    "from sklearn.linear_model import LinearRegression #modelling\n",
    "from sklearn.metrics import mean_squared_error #modelling"
   ]
  },
  {
   "cell_type": "code",
   "execution_count": null,
   "id": "7aaf9a62",
   "metadata": {
    "ExecuteTime": {
     "end_time": "2022-05-23T13:12:31.499292Z",
     "start_time": "2022-05-23T13:12:31.424283Z"
    }
   },
   "outputs": [],
   "source": [
    "# Jupyter display env setup\n",
    "pd.set_option('display.max_rows', 200)\n",
    "\n",
    "pd.options.display.max_columns\n",
    "\n",
    "pd.options.display.max_colwidth\n",
    "\n",
    "pd.options.display.precision = 3\n",
    "\n",
    "pd.options.plotting.backend = \"plotly\"\n",
    "\n",
    "np.random.seed(42)"
   ]
  },
  {
   "cell_type": "code",
   "execution_count": null,
   "id": "61790299",
   "metadata": {
    "ExecuteTime": {
     "end_time": "2022-05-23T13:12:31.779316Z",
     "start_time": "2022-05-23T13:12:31.501279Z"
    }
   },
   "outputs": [],
   "source": [
    "# load the data just for January 2021\n",
    "df = pd.read_parquet('./data/fhv_tripdata_2021-01.parquet')\n",
    "\n",
    "# and quickly inspect the size of the table\n",
    "print(df.shape)\n",
    "\n",
    "# Question 1: Number of records in Jan 2021 FHV data\n",
    "print(df.shape[0])\n",
    "\n",
    "df.head()"
   ]
  },
  {
   "cell_type": "code",
   "execution_count": null,
   "id": "e523dcc0",
   "metadata": {
    "ExecuteTime": {
     "end_time": "2022-05-23T13:12:31.842326Z",
     "start_time": "2022-05-23T13:12:31.780282Z"
    }
   },
   "outputs": [],
   "source": [
    "# create the response variable\n",
    "df['duration'] = df.dropOff_datetime - df.pickup_datetime\n",
    "\n",
    "df.duration = df.duration.dt.total_seconds()/60"
   ]
  },
  {
   "cell_type": "code",
   "execution_count": null,
   "id": "1b0a18f3",
   "metadata": {
    "ExecuteTime": {
     "end_time": "2022-05-23T13:12:31.858279Z",
     "start_time": "2022-05-23T13:12:31.844278Z"
    }
   },
   "outputs": [],
   "source": [
    "# Question 2: Average duration in Jan 2021 FHV\n",
    "\n",
    "df.duration.mean()"
   ]
  },
  {
   "cell_type": "code",
   "execution_count": null,
   "id": "45f69282",
   "metadata": {
    "ExecuteTime": {
     "end_time": "2022-05-23T13:12:32.015279Z",
     "start_time": "2022-05-23T13:12:31.860281Z"
    }
   },
   "outputs": [],
   "source": [
    "# exclude outliers\n",
    "df = df.query(\"duration >= 1 & duration <= 60\")\n",
    "\n",
    "df.duration.describe()\n"
   ]
  },
  {
   "cell_type": "code",
   "execution_count": null,
   "id": "146e5e60",
   "metadata": {
    "ExecuteTime": {
     "end_time": "2022-05-23T13:12:32.031279Z",
     "start_time": "2022-05-23T13:12:32.017279Z"
    }
   },
   "outputs": [],
   "source": [
    "df.dtypes"
   ]
  },
  {
   "cell_type": "code",
   "execution_count": null,
   "id": "542e5234",
   "metadata": {
    "ExecuteTime": {
     "end_time": "2022-05-23T13:12:32.078279Z",
     "start_time": "2022-05-23T13:12:32.037289Z"
    }
   },
   "outputs": [],
   "source": [
    "# subset just the locationID columns and replace NAs with -1\n",
    "PU_DO = df[['PUlocationID', 'DOlocationID']].fillna(-1)\n",
    "\n",
    "PU_DO.head()"
   ]
  },
  {
   "cell_type": "code",
   "execution_count": null,
   "id": "b2b891af",
   "metadata": {
    "ExecuteTime": {
     "end_time": "2022-05-23T13:12:32.125278Z",
     "start_time": "2022-05-23T13:12:32.080279Z"
    }
   },
   "outputs": [],
   "source": [
    "#Question 3: Fraction of missing values\n",
    "PU_DO.query('PUlocationID == -1').shape[0]/df.shape[0] * 100"
   ]
  },
  {
   "cell_type": "code",
   "execution_count": null,
   "id": "b63fa1a7",
   "metadata": {
    "ExecuteTime": {
     "end_time": "2022-05-23T13:12:33.053459Z",
     "start_time": "2022-05-23T13:12:32.127280Z"
    }
   },
   "outputs": [],
   "source": [
    "# set appropriate data type\n",
    "PU_DO = PU_DO.astype(str)\n",
    "\n",
    "PU_DO.dtypes"
   ]
  },
  {
   "cell_type": "code",
   "execution_count": null,
   "id": "d9c8921b",
   "metadata": {
    "ExecuteTime": {
     "end_time": "2022-05-23T13:12:35.900498Z",
     "start_time": "2022-05-23T13:12:33.056460Z"
    }
   },
   "outputs": [],
   "source": [
    "# turn into a list of dicts\n",
    "PU_DO_dicts = PU_DO.to_dict(orient='records')\n",
    "PU_DO_dicts"
   ]
  },
  {
   "cell_type": "code",
   "execution_count": null,
   "id": "116ff0cc",
   "metadata": {
    "ExecuteTime": {
     "end_time": "2022-05-23T13:12:38.827462Z",
     "start_time": "2022-05-23T13:12:35.903473Z"
    }
   },
   "outputs": [],
   "source": [
    "#Question 4: Dimensionality after OHE\n",
    "dv = DictVectorizer()\n",
    "PU_DO_ohe = dv.fit_transform(PU_DO_dicts)\n",
    "\n",
    "PU_DO_ohe.shape"
   ]
  },
  {
   "cell_type": "code",
   "execution_count": null,
   "id": "1b23bbcc",
   "metadata": {
    "ExecuteTime": {
     "end_time": "2022-05-23T13:12:52.547456Z",
     "start_time": "2022-05-23T13:12:38.829460Z"
    }
   },
   "outputs": [],
   "source": [
    "# Build a vanilla LR\n",
    "Y_train = df.duration.values\n",
    "\n",
    "X_train = PU_DO_ohe\n",
    "\n",
    "lr = LinearRegression()\n",
    "lr.fit(X_train, Y_train)\n",
    "\n",
    "Y_pred = lr.predict(X_train)"
   ]
  },
  {
   "cell_type": "code",
   "execution_count": null,
   "id": "6bd8d3bc",
   "metadata": {
    "ExecuteTime": {
     "end_time": "2022-05-23T13:12:52.579462Z",
     "start_time": "2022-05-23T13:12:52.549458Z"
    }
   },
   "outputs": [],
   "source": [
    "actual_preds = pd.DataFrame({'Actual': Y_train, 'Predicted': Y_pred})\n",
    "\n",
    "actual_preds.head()"
   ]
  },
  {
   "cell_type": "code",
   "execution_count": null,
   "id": "b134c97b",
   "metadata": {
    "ExecuteTime": {
     "end_time": "2022-05-23T13:13:07.546825Z",
     "start_time": "2022-05-23T13:12:52.581460Z"
    }
   },
   "outputs": [],
   "source": [
    "#Question 5: RMSE on train\n",
    "print(mean_squared_error(actual_preds.Actual, actual_preds.Predicted, squared=False))\n",
    "\n",
    "\n",
    "# check the distributions\n",
    "fig = actual_preds.plot.hist()\n",
    "fig.show()"
   ]
  },
  {
   "cell_type": "code",
   "execution_count": null,
   "id": "f9e6479e",
   "metadata": {
    "ExecuteTime": {
     "end_time": "2022-05-23T13:13:07.812824Z",
     "start_time": "2022-05-23T13:13:07.549837Z"
    }
   },
   "outputs": [],
   "source": [
    "# load Feb 2021 data and create response var: duration\n",
    "df_val= pd.read_parquet('./data/fhv_tripdata_2021-02.parquet')\n",
    "\n",
    "df_val['duration'] = df_val.dropOff_datetime - df_val.pickup_datetime\n",
    "\n",
    "df_val.duration = df_val.duration.dt.total_seconds()/60\n"
   ]
  },
  {
   "cell_type": "code",
   "execution_count": null,
   "id": "8029eba0",
   "metadata": {
    "ExecuteTime": {
     "end_time": "2022-05-23T13:13:14.256825Z",
     "start_time": "2022-05-23T13:13:07.813826Z"
    }
   },
   "outputs": [],
   "source": [
    "# according to instructions: follow similar preprocessing as in the train subset\n",
    "df_val = df_val.query(\"duration >= 1 & duration <= 60\")\n",
    "\n",
    "PU_DO_val = df_val[['PUlocationID', 'DOlocationID']].fillna(-1)\n",
    "\n",
    "PU_DO_val = PU_DO_val.astype(str)\n",
    "\n",
    "print(PU_DO_val.dtypes)\n",
    "\n",
    "PU_DO_val = PU_DO_val.to_dict(orient='records')\n",
    "\n",
    "PU_DO_val = dv.transform(PU_DO_val)\n",
    "\n",
    "print(PU_DO_val.shape[1])"
   ]
  },
  {
   "cell_type": "code",
   "execution_count": null,
   "id": "951d51ef",
   "metadata": {
    "ExecuteTime": {
     "end_time": "2022-05-23T13:13:14.287826Z",
     "start_time": "2022-05-23T13:13:14.258827Z"
    },
    "scrolled": true
   },
   "outputs": [],
   "source": [
    "# Produce predictions on the val df\n",
    "Y_val = df_val.duration.values\n",
    "\n",
    "Y_pred_val = lr.predict(PU_DO_val)"
   ]
  },
  {
   "cell_type": "code",
   "execution_count": null,
   "id": "47b0eb9b",
   "metadata": {
    "ExecuteTime": {
     "end_time": "2022-05-23T13:13:26.047828Z",
     "start_time": "2022-05-23T13:13:14.289828Z"
    }
   },
   "outputs": [],
   "source": [
    "actual_preds_val = pd.DataFrame({'Actual_val': Y_val, 'Predicted_val': Y_pred_val})\n",
    "\n",
    "\n",
    "#Question 6: RMSE on validation\n",
    "print(mean_squared_error(actual_preds_val.Actual_val, actual_preds_val.Predicted_val, \n",
    "                         squared=False))\n",
    "\n",
    "\n",
    "# check the distributions\n",
    "fig = actual_preds_val.plot.hist()\n",
    "fig.show()"
   ]
  }
 ],
 "metadata": {
  "kernelspec": {
   "display_name": "Python 3.9.12 ('exp-tracking-env')",
   "language": "python",
   "name": "python3"
  },
  "language_info": {
   "codemirror_mode": {
    "name": "ipython",
    "version": 3
   },
   "file_extension": ".py",
   "mimetype": "text/x-python",
   "name": "python",
   "nbconvert_exporter": "python",
   "pygments_lexer": "ipython3",
   "version": "3.9.12"
  },
  "toc": {
   "base_numbering": 1,
   "nav_menu": {},
   "number_sections": true,
   "sideBar": true,
   "skip_h1_title": false,
   "title_cell": "Table of Contents",
   "title_sidebar": "Contents",
   "toc_cell": false,
   "toc_position": {},
   "toc_section_display": true,
   "toc_window_display": false
  },
  "varInspector": {
   "cols": {
    "lenName": 16,
    "lenType": 16,
    "lenVar": 40
   },
   "kernels_config": {
    "python": {
     "delete_cmd_postfix": "",
     "delete_cmd_prefix": "del ",
     "library": "var_list.py",
     "varRefreshCmd": "print(var_dic_list())"
    },
    "r": {
     "delete_cmd_postfix": ") ",
     "delete_cmd_prefix": "rm(",
     "library": "var_list.r",
     "varRefreshCmd": "cat(var_dic_list()) "
    }
   },
   "types_to_exclude": [
    "module",
    "function",
    "builtin_function_or_method",
    "instance",
    "_Feature"
   ],
   "window_display": false
  },
  "vscode": {
   "interpreter": {
    "hash": "12ce20cf26789c31487e726f714d34762a8daa003443b03d4332d127be010b58"
   }
  }
 },
 "nbformat": 4,
 "nbformat_minor": 5
}
