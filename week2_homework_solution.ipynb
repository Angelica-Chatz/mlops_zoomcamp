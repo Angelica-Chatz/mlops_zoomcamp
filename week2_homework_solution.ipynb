{
 "cells": [
  {
   "cell_type": "code",
   "execution_count": null,
   "metadata": {},
   "outputs": [],
   "source": [
    "# Q1: What's the version that you have?\n",
    "!mlflow --version\n",
    "\n",
    "# 1.26.1"
   ]
  },
  {
   "cell_type": "code",
   "execution_count": null,
   "metadata": {},
   "outputs": [],
   "source": [
    "! cd ./02-experiment-tracking/homework/\n",
    "\n",
    "# Q2 : How many files were saved to OUTPUT_FOLDER?\n",
    "! python ./preprocess_data.py --raw_data_path ~/mlops-zoomcamp/02-experiment-tracking/data/ --dest_path ./output\n",
    "\n",
    "! ls ./output\n",
    "# 4 Files"
   ]
  },
  {
   "cell_type": "code",
   "execution_count": null,
   "metadata": {},
   "outputs": [],
   "source": [
    "# Q3 : How many parameters are automatically logged by MLflow?\n",
    "! python ./train.py --data_path ./output\n",
    "\n",
    "# 17 auto generated parameters \n"
   ]
  },
  {
   "cell_type": "code",
   "execution_count": null,
   "metadata": {},
   "outputs": [],
   "source": [
    "# Q4 : In addition to `backend-store-uri`, what else do you need to pass to properly configure the server?\n",
    "# `default-artifact-root`\n",
    "\n",
    "! mlflow ui --backend-store-uri sqlite:///mlflow.db --default-artifact-root ./artifacts"
   ]
  },
  {
   "cell_type": "code",
   "execution_count": null,
   "metadata": {},
   "outputs": [],
   "source": [
    "# Q5 : What's the best validation RMSE that you got for February 2021 data?\n",
    "! python ./hpo.py --data_path ./output\n",
    "\n",
    "#6.628"
   ]
  },
  {
   "cell_type": "code",
   "execution_count": null,
   "metadata": {},
   "outputs": [],
   "source": [
    "# Q6 : Promote the best model to the model registry\n",
    "! python ./register_model.py --data_path ./output\n",
    "\n",
    "#6.55"
   ]
  }
 ],
 "metadata": {
  "interpreter": {
   "hash": "c059af01309e05eeb8b4a05d8469776254446622505f40a6aef917a7bb8b6da0"
  },
  "kernelspec": {
   "display_name": "Python 3.9.12 ('exp-tracking-env')",
   "language": "python",
   "name": "python3"
  },
  "language_info": {
   "codemirror_mode": {
    "name": "ipython",
    "version": 3
   },
   "file_extension": ".py",
   "mimetype": "text/x-python",
   "name": "python",
   "nbconvert_exporter": "python",
   "pygments_lexer": "ipython3",
   "version": "3.9.12"
  }
 },
 "nbformat": 4,
 "nbformat_minor": 2
}
